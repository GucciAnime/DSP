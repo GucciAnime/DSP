{
 "cells": [
  {
   "cell_type": "code",
   "execution_count": 1137,
   "metadata": {},
   "outputs": [],
   "source": [
    "from IPython.display import display\n",
    "import copy\n",
    "import math\n",
    "import re\n",
    "import pandas as pd\n",
    "import numpy as np\n",
    "from sklearn.model_selection import train_test_split\n",
    "from sklearn.ensemble import RandomForestRegressor\n",
    "from sklearn import metrics\n",
    "from sklearn.preprocessing import StandardScaler\n",
    "from sklearn.preprocessing import LabelEncoder\n",
    "from collections import Counter\n",
    "import datetime\n",
    "import os\n",
    "import matplotlib.pyplot as plt\n",
    "import seaborn as sns\n",
    "%matplotlib inline"
   ]
  },
  {
   "cell_type": "code",
   "execution_count": 1138,
   "metadata": {},
   "outputs": [],
   "source": [
    "RANDOM_SEED = 42  # Фиксируем seed"
   ]
  },
  {
   "cell_type": "code",
   "execution_count": 1139,
   "metadata": {},
   "outputs": [],
   "source": [
    "df_train = pd.read_csv('data/main_task.csv')\n",
    "df_test = pd.read_csv('data/kaggle_task.csv')\n",
    "sample_submission = pd.read_csv('data/sample_submission.csv')"
   ]
  },
  {
   "cell_type": "code",
   "execution_count": 1140,
   "metadata": {},
   "outputs": [
    {
     "name": "stdout",
     "output_type": "stream",
     "text": [
      "<class 'pandas.core.frame.DataFrame'>\n",
      "RangeIndex: 40000 entries, 0 to 39999\n",
      "Data columns (total 10 columns):\n",
      " #   Column             Non-Null Count  Dtype  \n",
      "---  ------             --------------  -----  \n",
      " 0   Restaurant_id      40000 non-null  object \n",
      " 1   City               40000 non-null  object \n",
      " 2   Cuisine Style      30717 non-null  object \n",
      " 3   Ranking            40000 non-null  float64\n",
      " 4   Rating             40000 non-null  float64\n",
      " 5   Price Range        26114 non-null  object \n",
      " 6   Number of Reviews  37457 non-null  float64\n",
      " 7   Reviews            40000 non-null  object \n",
      " 8   URL_TA             40000 non-null  object \n",
      " 9   ID_TA              40000 non-null  object \n",
      "dtypes: float64(3), object(7)\n",
      "memory usage: 3.1+ MB\n"
     ]
    }
   ],
   "source": [
    "df_train.info()"
   ]
  },
  {
   "cell_type": "markdown",
   "metadata": {},
   "source": [
    "Подробнее по признакам:\n",
    "\n",
    "City: Город\n",
    "\n",
    "Cuisine Style: Кухня\n",
    "\n",
    "Ranking: Ранг ресторана относительно других ресторанов в этом городе\n",
    "\n",
    "Price Range: Цены в ресторане в 3 категориях\n",
    "\n",
    "Number of Reviews: Количество отзывов\n",
    "\n",
    "Reviews: 2 последних отзыва и даты этих отзывов\n",
    "\n",
    "URL_TA: страница ресторана на 'www.tripadvisor.com'\n",
    "\n",
    "ID_TA: ID ресторана в TripAdvisor\n",
    "\n",
    "Rating: Рейтинг ресторана"
   ]
  },
  {
   "cell_type": "code",
   "execution_count": 1141,
   "metadata": {
    "scrolled": true
   },
   "outputs": [
    {
     "data": {
      "text/html": [
       "<div>\n",
       "<style scoped>\n",
       "    .dataframe tbody tr th:only-of-type {\n",
       "        vertical-align: middle;\n",
       "    }\n",
       "\n",
       "    .dataframe tbody tr th {\n",
       "        vertical-align: top;\n",
       "    }\n",
       "\n",
       "    .dataframe thead th {\n",
       "        text-align: right;\n",
       "    }\n",
       "</style>\n",
       "<table border=\"1\" class=\"dataframe\">\n",
       "  <thead>\n",
       "    <tr style=\"text-align: right;\">\n",
       "      <th></th>\n",
       "      <th>Restaurant_id</th>\n",
       "      <th>City</th>\n",
       "      <th>Cuisine Style</th>\n",
       "      <th>Ranking</th>\n",
       "      <th>Rating</th>\n",
       "      <th>Price Range</th>\n",
       "      <th>Number of Reviews</th>\n",
       "      <th>Reviews</th>\n",
       "      <th>URL_TA</th>\n",
       "      <th>ID_TA</th>\n",
       "    </tr>\n",
       "  </thead>\n",
       "  <tbody>\n",
       "    <tr>\n",
       "      <th>0</th>\n",
       "      <td>id_5569</td>\n",
       "      <td>Paris</td>\n",
       "      <td>['European', 'French', 'International']</td>\n",
       "      <td>5570.0</td>\n",
       "      <td>3.5</td>\n",
       "      <td>$$ - $$$</td>\n",
       "      <td>194.0</td>\n",
       "      <td>[['Good food at your doorstep', 'A good hotel ...</td>\n",
       "      <td>/Restaurant_Review-g187147-d1912643-Reviews-R_...</td>\n",
       "      <td>d1912643</td>\n",
       "    </tr>\n",
       "    <tr>\n",
       "      <th>1</th>\n",
       "      <td>id_1535</td>\n",
       "      <td>Stockholm</td>\n",
       "      <td>NaN</td>\n",
       "      <td>1537.0</td>\n",
       "      <td>4.0</td>\n",
       "      <td>NaN</td>\n",
       "      <td>10.0</td>\n",
       "      <td>[['Unique cuisine', 'Delicious Nepalese food']...</td>\n",
       "      <td>/Restaurant_Review-g189852-d7992032-Reviews-Bu...</td>\n",
       "      <td>d7992032</td>\n",
       "    </tr>\n",
       "    <tr>\n",
       "      <th>2</th>\n",
       "      <td>id_352</td>\n",
       "      <td>London</td>\n",
       "      <td>['Japanese', 'Sushi', 'Asian', 'Grill', 'Veget...</td>\n",
       "      <td>353.0</td>\n",
       "      <td>4.5</td>\n",
       "      <td>$$$$</td>\n",
       "      <td>688.0</td>\n",
       "      <td>[['Catch up with friends', 'Not exceptional'],...</td>\n",
       "      <td>/Restaurant_Review-g186338-d8632781-Reviews-RO...</td>\n",
       "      <td>d8632781</td>\n",
       "    </tr>\n",
       "    <tr>\n",
       "      <th>3</th>\n",
       "      <td>id_3456</td>\n",
       "      <td>Berlin</td>\n",
       "      <td>NaN</td>\n",
       "      <td>3458.0</td>\n",
       "      <td>5.0</td>\n",
       "      <td>NaN</td>\n",
       "      <td>3.0</td>\n",
       "      <td>[[], []]</td>\n",
       "      <td>/Restaurant_Review-g187323-d1358776-Reviews-Es...</td>\n",
       "      <td>d1358776</td>\n",
       "    </tr>\n",
       "    <tr>\n",
       "      <th>4</th>\n",
       "      <td>id_615</td>\n",
       "      <td>Munich</td>\n",
       "      <td>['German', 'Central European', 'Vegetarian Fri...</td>\n",
       "      <td>621.0</td>\n",
       "      <td>4.0</td>\n",
       "      <td>$$ - $$$</td>\n",
       "      <td>84.0</td>\n",
       "      <td>[['Best place to try a Bavarian food', 'Nice b...</td>\n",
       "      <td>/Restaurant_Review-g187309-d6864963-Reviews-Au...</td>\n",
       "      <td>d6864963</td>\n",
       "    </tr>\n",
       "  </tbody>\n",
       "</table>\n",
       "</div>"
      ],
      "text/plain": [
       "  Restaurant_id       City                                      Cuisine Style  \\\n",
       "0       id_5569      Paris            ['European', 'French', 'International']   \n",
       "1       id_1535  Stockholm                                                NaN   \n",
       "2        id_352     London  ['Japanese', 'Sushi', 'Asian', 'Grill', 'Veget...   \n",
       "3       id_3456     Berlin                                                NaN   \n",
       "4        id_615     Munich  ['German', 'Central European', 'Vegetarian Fri...   \n",
       "\n",
       "   Ranking  Rating Price Range  Number of Reviews  \\\n",
       "0   5570.0     3.5    $$ - $$$              194.0   \n",
       "1   1537.0     4.0         NaN               10.0   \n",
       "2    353.0     4.5        $$$$              688.0   \n",
       "3   3458.0     5.0         NaN                3.0   \n",
       "4    621.0     4.0    $$ - $$$               84.0   \n",
       "\n",
       "                                             Reviews  \\\n",
       "0  [['Good food at your doorstep', 'A good hotel ...   \n",
       "1  [['Unique cuisine', 'Delicious Nepalese food']...   \n",
       "2  [['Catch up with friends', 'Not exceptional'],...   \n",
       "3                                           [[], []]   \n",
       "4  [['Best place to try a Bavarian food', 'Nice b...   \n",
       "\n",
       "                                              URL_TA     ID_TA  \n",
       "0  /Restaurant_Review-g187147-d1912643-Reviews-R_...  d1912643  \n",
       "1  /Restaurant_Review-g189852-d7992032-Reviews-Bu...  d7992032  \n",
       "2  /Restaurant_Review-g186338-d8632781-Reviews-RO...  d8632781  \n",
       "3  /Restaurant_Review-g187323-d1358776-Reviews-Es...  d1358776  \n",
       "4  /Restaurant_Review-g187309-d6864963-Reviews-Au...  d6864963  "
      ]
     },
     "execution_count": 1141,
     "metadata": {},
     "output_type": "execute_result"
    }
   ],
   "source": [
    "df_train.head(5)"
   ]
  },
  {
   "cell_type": "code",
   "execution_count": 1142,
   "metadata": {},
   "outputs": [],
   "source": [
    "df_train['sample'] = 1  # трейн\n",
    "df_test['sample'] = 0  # тест\n",
    "# в тесте у нас нет значения Rating, мы его должны предсказать, просто заполняем нулями\n",
    "df_test['Rating'] = 0\n",
    "\n",
    "data = df_test.append(df_train, sort=False).reset_index(\n",
    "    drop=True)  # объединяем"
   ]
  },
  {
   "cell_type": "code",
   "execution_count": 1143,
   "metadata": {},
   "outputs": [
    {
     "data": {
      "text/html": [
       "<div>\n",
       "<style scoped>\n",
       "    .dataframe tbody tr th:only-of-type {\n",
       "        vertical-align: middle;\n",
       "    }\n",
       "\n",
       "    .dataframe tbody tr th {\n",
       "        vertical-align: top;\n",
       "    }\n",
       "\n",
       "    .dataframe thead th {\n",
       "        text-align: right;\n",
       "    }\n",
       "</style>\n",
       "<table border=\"1\" class=\"dataframe\">\n",
       "  <thead>\n",
       "    <tr style=\"text-align: right;\">\n",
       "      <th></th>\n",
       "      <th>Restaurant_id</th>\n",
       "      <th>City</th>\n",
       "      <th>Cuisine Style</th>\n",
       "      <th>Ranking</th>\n",
       "      <th>Price Range</th>\n",
       "      <th>Number of Reviews</th>\n",
       "      <th>Reviews</th>\n",
       "      <th>URL_TA</th>\n",
       "      <th>ID_TA</th>\n",
       "      <th>sample</th>\n",
       "      <th>Rating</th>\n",
       "    </tr>\n",
       "  </thead>\n",
       "  <tbody>\n",
       "    <tr>\n",
       "      <th>28264</th>\n",
       "      <td>id_293</td>\n",
       "      <td>Zurich</td>\n",
       "      <td>['Italian', 'Bar', 'European', 'Vegetarian Fri...</td>\n",
       "      <td>295.0</td>\n",
       "      <td>$$ - $$$</td>\n",
       "      <td>57.0</td>\n",
       "      <td>[['AWESOME place', 'Perfect Italian in lively ...</td>\n",
       "      <td>/Restaurant_Review-g188113-d4973470-Reviews-Ma...</td>\n",
       "      <td>d4973470</td>\n",
       "      <td>1</td>\n",
       "      <td>4.5</td>\n",
       "    </tr>\n",
       "    <tr>\n",
       "      <th>48018</th>\n",
       "      <td>id_4391</td>\n",
       "      <td>London</td>\n",
       "      <td>['British', 'Gluten Free Options', 'Vegetarian...</td>\n",
       "      <td>4398.0</td>\n",
       "      <td>$$ - $$$</td>\n",
       "      <td>144.0</td>\n",
       "      <td>[['Lovely meal in friendly neighbourhood rest....</td>\n",
       "      <td>/Restaurant_Review-g186338-d802292-Reviews-Fra...</td>\n",
       "      <td>d802292</td>\n",
       "      <td>1</td>\n",
       "      <td>4.0</td>\n",
       "    </tr>\n",
       "    <tr>\n",
       "      <th>21102</th>\n",
       "      <td>id_2125</td>\n",
       "      <td>Barcelona</td>\n",
       "      <td>['Spanish', 'Mediterranean', 'European', 'Deli...</td>\n",
       "      <td>2126.0</td>\n",
       "      <td>$$ - $$$</td>\n",
       "      <td>74.0</td>\n",
       "      <td>[['Great bocadillos', 'BEST QUALITY COLD CUTS'...</td>\n",
       "      <td>/Restaurant_Review-g187497-d3838733-Reviews-An...</td>\n",
       "      <td>d3838733</td>\n",
       "      <td>1</td>\n",
       "      <td>4.5</td>\n",
       "    </tr>\n",
       "    <tr>\n",
       "      <th>19125</th>\n",
       "      <td>id_2690</td>\n",
       "      <td>Berlin</td>\n",
       "      <td>NaN</td>\n",
       "      <td>2692.0</td>\n",
       "      <td>NaN</td>\n",
       "      <td>6.0</td>\n",
       "      <td>[['Cozy, feel-at-home bar with character, goo....</td>\n",
       "      <td>/Restaurant_Review-g187323-d8736286-Reviews-Ga...</td>\n",
       "      <td>d8736286</td>\n",
       "      <td>1</td>\n",
       "      <td>5.0</td>\n",
       "    </tr>\n",
       "    <tr>\n",
       "      <th>22420</th>\n",
       "      <td>id_3139</td>\n",
       "      <td>Lisbon</td>\n",
       "      <td>['Italian', 'European', 'Portuguese']</td>\n",
       "      <td>3142.0</td>\n",
       "      <td>NaN</td>\n",
       "      <td>32.0</td>\n",
       "      <td>[['We will not return due to smoking clients',...</td>\n",
       "      <td>/Restaurant_Review-g189158-d697300-Reviews-Fra...</td>\n",
       "      <td>d697300</td>\n",
       "      <td>1</td>\n",
       "      <td>3.5</td>\n",
       "    </tr>\n",
       "  </tbody>\n",
       "</table>\n",
       "</div>"
      ],
      "text/plain": [
       "      Restaurant_id       City  \\\n",
       "28264        id_293     Zurich   \n",
       "48018       id_4391     London   \n",
       "21102       id_2125  Barcelona   \n",
       "19125       id_2690     Berlin   \n",
       "22420       id_3139     Lisbon   \n",
       "\n",
       "                                           Cuisine Style  Ranking Price Range  \\\n",
       "28264  ['Italian', 'Bar', 'European', 'Vegetarian Fri...    295.0    $$ - $$$   \n",
       "48018  ['British', 'Gluten Free Options', 'Vegetarian...   4398.0    $$ - $$$   \n",
       "21102  ['Spanish', 'Mediterranean', 'European', 'Deli...   2126.0    $$ - $$$   \n",
       "19125                                                NaN   2692.0         NaN   \n",
       "22420              ['Italian', 'European', 'Portuguese']   3142.0         NaN   \n",
       "\n",
       "       Number of Reviews                                            Reviews  \\\n",
       "28264               57.0  [['AWESOME place', 'Perfect Italian in lively ...   \n",
       "48018              144.0  [['Lovely meal in friendly neighbourhood rest....   \n",
       "21102               74.0  [['Great bocadillos', 'BEST QUALITY COLD CUTS'...   \n",
       "19125                6.0  [['Cozy, feel-at-home bar with character, goo....   \n",
       "22420               32.0  [['We will not return due to smoking clients',...   \n",
       "\n",
       "                                                  URL_TA     ID_TA  sample  \\\n",
       "28264  /Restaurant_Review-g188113-d4973470-Reviews-Ma...  d4973470       1   \n",
       "48018  /Restaurant_Review-g186338-d802292-Reviews-Fra...   d802292       1   \n",
       "21102  /Restaurant_Review-g187497-d3838733-Reviews-An...  d3838733       1   \n",
       "19125  /Restaurant_Review-g187323-d8736286-Reviews-Ga...  d8736286       1   \n",
       "22420  /Restaurant_Review-g189158-d697300-Reviews-Fra...   d697300       1   \n",
       "\n",
       "       Rating  \n",
       "28264     4.5  \n",
       "48018     4.0  \n",
       "21102     4.5  \n",
       "19125     5.0  \n",
       "22420     3.5  "
      ]
     },
     "execution_count": 1143,
     "metadata": {},
     "output_type": "execute_result"
    }
   ],
   "source": [
    "data.sample(5)"
   ]
  },
  {
   "cell_type": "code",
   "execution_count": 1144,
   "metadata": {},
   "outputs": [],
   "source": [
    "df_output = data.copy()"
   ]
  },
  {
   "cell_type": "markdown",
   "metadata": {},
   "source": [
    "## Предобработка\n",
    "- Убирем не нужные для модели признаки\n",
    "\n",
    "- Заполним пропуски\n"
   ]
  },
  {
   "cell_type": "code",
   "execution_count": 1145,
   "metadata": {},
   "outputs": [],
   "source": [
    "# Нормализация\n",
    "min_rc = df_output.groupby('City')['Ranking'].min()\n",
    "max_rc = df_output.groupby('City')['Ranking'].max()\n",
    "df_output['Ranking_min_max'] = (df_output['Ranking'] - df_output['City'].map(min_rc)) / \\\n",
    "    (df_output['City'].map(max_rc) - df_output['City'].map(min_rc))"
   ]
  },
  {
   "cell_type": "code",
   "execution_count": 1146,
   "metadata": {},
   "outputs": [],
   "source": [
    "# убираем не нужные для модели признаки\n",
    "df_output.drop(['Restaurant_id', ], axis=1, inplace=True)"
   ]
  },
  {
   "cell_type": "code",
   "execution_count": 1147,
   "metadata": {},
   "outputs": [],
   "source": [
    "# Сохраняем информацио о пропусках и заполняем их\n",
    "df_output['Number_of_Reviews_isNAN'] = pd.isna(\n",
    "    df_output['Number of Reviews']).astype('uint8')\n",
    "df_output['Number of Reviews'].fillna(4, inplace=True)"
   ]
  },
  {
   "cell_type": "code",
   "execution_count": 1148,
   "metadata": {},
   "outputs": [],
   "source": [
    "# Сохраняем информацию о пропусках в ценах\n",
    "df_output.rename(columns={'Price Range': 'Price'}, inplace=True)\n",
    "df_output['NaN_Price Range'] = pd.isna(df_output['Price']).astype('float64')\n",
    "# заполним значения в переменной по словарю\n",
    "dic_value_Price = {'$': 0, '$$ - $$$': 1, '$$$$': 2}\n",
    "df_output['Price'] = df_output['Price'].map(\n",
    "    lambda x: dic_value_Price.get(x, x))\n",
    "city_lst = df_output.City.unique()\n",
    "df_output['Price'].fillna(df_output['Price'].mode()[0], inplace=True)"
   ]
  },
  {
   "cell_type": "markdown",
   "metadata": {},
   "source": [
    "## Feature Engineering\n",
    "- Создадим несколько новых признаков"
   ]
  },
  {
   "cell_type": "code",
   "execution_count": 1149,
   "metadata": {},
   "outputs": [],
   "source": [
    "# Считаем кол-во ресторанов по городам\n",
    "res_count = df_output['City'].value_counts()\n",
    "df_output['rest_counts'] = df_output['City'].map(res_count)\n",
    "df_output['ranked_cities'] = df_output['City'].rank()"
   ]
  },
  {
   "cell_type": "code",
   "execution_count": 1150,
   "metadata": {},
   "outputs": [],
   "source": [
    "# Кол-во отзывов по городу\n",
    "rewiews_city_dict = dict(df_output.groupby('City')['Number of Reviews'].sum())\n",
    "df_output['num_rewiews_city'] = df_output.City.map(rewiews_city_dict)"
   ]
  },
  {
   "cell_type": "code",
   "execution_count": 1151,
   "metadata": {},
   "outputs": [],
   "source": [
    "# Список самых редких городов\n",
    "# Список городов, которые встречаются реже всего\n",
    "Others = ['Bratislava', 'Luxembourg', 'Ljubljana']\n",
    "New_City = []\n",
    "for x in df_output['City']:\n",
    "    if x in Others:\n",
    "        x = 'Other'\n",
    "        New_City.append(x)\n",
    "    else:\n",
    "        New_City.append(x)"
   ]
  },
  {
   "cell_type": "code",
   "execution_count": 1152,
   "metadata": {},
   "outputs": [],
   "source": [
    "# Создаем признак \"Столица\" 1 - да, 0 - нет\n",
    "list_Of_NotCapitalCity = ['Barcelona', 'Milan', 'Hamburg', 'Munich',\n",
    "                          'Lyon', 'Zurich', 'Oporto', 'Geneva', 'Krakow']\n",
    "df_output['Capital_City'] = df_output['City'].apply(\n",
    "    lambda x: 0 if x in list_Of_NotCapitalCity else 1)"
   ]
  },
  {
   "cell_type": "code",
   "execution_count": 1153,
   "metadata": {},
   "outputs": [],
   "source": [
    "# Создаем признак \"Населения города\"\n",
    "dict_Сity_population = {'London': 8908, 'Paris': 2206, 'Madrid': 3223, 'Barcelona': 1620,\n",
    "                        'Berlin': 6010, 'Milan': 1366, 'Rome': 2872, 'Prague': 1308,\n",
    "                        'Lisbon': 506, 'Vienna': 1888, 'Amsterdam': 860, 'Brussels': 179,\n",
    "                        'Hamburg': 1841, 'Munich': 1457, 'Lyon': 506, 'Stockholm': 961,\n",
    "                        'Budapest': 1752, 'Warsaw': 1764, 'Dublin': 553,\n",
    "                        'Copenhagen': 616, 'Athens': 665, 'Edinburgh': 513,\n",
    "                        'Zurich': 415, 'Oporto': 240, 'Geneva': 201, 'Krakow': 769,\n",
    "                        'Oslo': 681, 'Helsinki': 643, 'Bratislava': 426,\n",
    "                        'Luxembourg': 119, 'Ljubljana': 284}\n",
    "df_output['Сity_population'] = df_output.apply(\n",
    "    lambda row: dict_Сity_population[row['City']], axis=1)"
   ]
  },
  {
   "cell_type": "code",
   "execution_count": 1154,
   "metadata": {},
   "outputs": [],
   "source": [
    "# Рестораны на душу населения\n",
    "df_output['restaraunts_per_people'] = df_output['rest_counts'] / \\\n",
    "    sum(dict_Сity_population.values())"
   ]
  },
  {
   "cell_type": "code",
   "execution_count": 1155,
   "metadata": {},
   "outputs": [],
   "source": [
    "# Создаем признак \"Страна\", делаем код для страны и dummies для городов\n",
    "dict_Сountries = {'London': 'England', 'Paris': 'France', 'Madrid': 'Spain',\n",
    "                  'Barcelona': 'Spain', 'Berlin': 'Germany', 'Milan': 'Italy',\n",
    "                  'Rome': 'Italy', 'Prague': 'Czech_c', 'Lisbon': 'Portugal',\n",
    "                  'Vienna': 'Austria', 'Amsterdam': 'Holland',\n",
    "                  'Brussels': 'Belgium', 'Hamburg': 'Germany', 'Munich': 'Germany',\n",
    "                  'Lyon': 'France', 'Stockholm': 'Sweden', 'Budapest': 'Romania',\n",
    "                  'Warsaw': 'Poland', 'Dublin': 'Ireland', 'Copenhagen': 'Denmark',\n",
    "                  'Athens': 'Greece', 'Edinburgh': 'Scotland', 'Zurich': 'Switzerland',\n",
    "                  'Oporto': 'Portugal', 'Geneva': 'Switzerland', 'Krakow': 'Poland',\n",
    "                  'Oslo': 'Norway', 'Helsinki': 'Finland', 'Bratislava': 'Slovakia',\n",
    "                  'Luxembourg': 'Luxembourg_c', 'Ljubljana': 'Slovenia'}\n",
    "\n",
    "df_output['Country'] = df_output.apply(\n",
    "    lambda row: dict_Сountries[row['City']], axis=1)\n",
    "le = LabelEncoder()\n",
    "le.fit(df_output['Country'])\n",
    "df_output['code_Country'] = le.transform(df_output['Country'])\n",
    "df_output = pd.get_dummies(df_output, columns=['City', ], dummy_na=True)"
   ]
  },
  {
   "cell_type": "code",
   "execution_count": 1156,
   "metadata": {},
   "outputs": [],
   "source": [
    "# Ranking norm\n",
    "df_output['ranking_norm'] = df_output.Ranking / df_output.rest_counts\n",
    "\n",
    "# Сохраняем информацию о пропусках\n",
    "df_output['NAN_Cuisine Style'] = pd.isna(\n",
    "    df_output['Cuisine Style']).astype('float64')\n",
    "\n",
    "# Заполним пропуски\n",
    "df_output['Cuisine Style'] = df_output['Cuisine Style'].fillna(\"['Other']\")\n",
    "\n",
    "# Кол-во кухонь\n",
    "df_output['count_Cuisine_Style'] = df_output['Cuisine Style'].apply(\n",
    "    lambda x: len(x)).astype('float64')\n",
    "\n",
    "# Разделяем кухни\n",
    "df_output['Cuisine Style'] = df_output['Cuisine Style'].str.findall(\n",
    "    r\"'(\\b.*?\\b)'\")"
   ]
  },
  {
   "cell_type": "code",
   "execution_count": 1157,
   "metadata": {
    "run_control": {
     "marked": true
    }
   },
   "outputs": [],
   "source": [
    "cuisine_rare_lst = df_output.explode('Cuisine Style')['Cuisine Style'].value_counts()[\n",
    "    df_output.explode('Cuisine Style')['Cuisine Style'].value_counts() < 100].index.tolist()\n",
    "\n",
    "\n",
    "def cuisine_rare_count(cell):\n",
    "    '''Количество редких кухонь в ресторане'''\n",
    "    x = 0\n",
    "    for i in cuisine_rare_lst:\n",
    "        if i in cell:\n",
    "            x += 1\n",
    "    return x\n",
    "\n",
    "\n",
    "df_output['cuisine_rare'] = df_output['Cuisine Style'].apply(\n",
    "    cuisine_rare_count)\n",
    "temp_list = df_output['Cuisine Style'].tolist()\n",
    "\n",
    "\n",
    "def list_unrar(list_of_lists):\n",
    "    result = []\n",
    "    for lst in list_of_lists:\n",
    "        result.extend(lst)\n",
    "    return result\n",
    "\n",
    "\n",
    "temp_counter = Counter(list_unrar(temp_list))"
   ]
  },
  {
   "cell_type": "code",
   "execution_count": 1158,
   "metadata": {},
   "outputs": [],
   "source": [
    "# Убираем символ в начале\n",
    "df_output['ID_TA'] = df_output['ID_TA'].apply(lambda x: int(x[1:]))"
   ]
  },
  {
   "cell_type": "code",
   "execution_count": 1159,
   "metadata": {
    "run_control": {
     "marked": true
    }
   },
   "outputs": [],
   "source": [
    "cuisine_lst = list(df_output.explode('Cuisine Style')\n",
    "                   ['Cuisine Style'].unique())\n",
    "\n",
    "\n",
    "def find_item(cell):\n",
    "    if item in cell:\n",
    "        return 1\n",
    "    return 0\n",
    "\n",
    "\n",
    "for item in cuisine_lst:\n",
    "    df_output[item] = df_output['Cuisine Style'].apply(find_item)"
   ]
  },
  {
   "cell_type": "markdown",
   "metadata": {},
   "source": [
    "## EDA"
   ]
  },
  {
   "cell_type": "code",
   "execution_count": 1185,
   "metadata": {},
   "outputs": [
    {
     "data": {
      "image/png": "[encoded data removed]",
      "text/plain": [
       "<Figure size 1080x720 with 1 Axes>"
      ]
     },
     "metadata": {
      "needs_background": "light"
     },
     "output_type": "display_data"
    }
   ],
   "source": [
    "# посмотрим на топ 10 городов\n",
    "for x in (df_train['City'].value_counts())[0:10].index:\n",
    "    df_train['Ranking'][df_train['City'] == x].hist(bins=100)\n",
    "plt.show()"
   ]
  },
  {
   "cell_type": "code",
   "execution_count": 1186,
   "metadata": {},
   "outputs": [
    {
     "data": {
      "text/plain": [
       "<AxesSubplot:>"
      ]
     },
     "execution_count": 1186,
     "metadata": {},
     "output_type": "execute_result"
    },
    {
     "data": {
      "image/png": "[encoded data removed]",
      "text/plain": [
       "<Figure size 1080x720 with 1 Axes>"
      ]
     },
     "metadata": {
      "needs_background": "light"
     },
     "output_type": "display_data"
    }
   ],
   "source": [
    "# Информация по городам\n",
    "df_train['City'].value_counts(ascending=True).plot(kind='barh')"
   ]
  },
  {
   "cell_type": "code",
   "execution_count": 1182,
   "metadata": {
    "scrolled": false
   },
   "outputs": [
    {
     "data": {
      "text/plain": [
       "<AxesSubplot:>"
      ]
     },
     "execution_count": 1182,
     "metadata": {},
     "output_type": "execute_result"
    },
    {
     "data": {
      "image/png": "[encoded data removed]",
      "text/plain": [
       "<Figure size 1080x720 with 1 Axes>"
      ]
     },
     "metadata": {
      "needs_background": "light"
     },
     "output_type": "display_data"
    }
   ],
   "source": [
    "# Посмотрим распределение целевой переменной\n",
    "df_output['Rating'].value_counts(ascending=True).plot(kind='barh')"
   ]
  },
  {
   "cell_type": "code",
   "execution_count": 1181,
   "metadata": {},
   "outputs": [
    {
     "data": {
      "text/plain": [
       "<AxesSubplot:>"
      ]
     },
     "execution_count": 1181,
     "metadata": {},
     "output_type": "execute_result"
    },
    {
     "data": {
      "image/png": "[encoded data removed]",
      "text/plain": [
       "<Figure size 1080x720 with 1 Axes>"
      ]
     },
     "metadata": {
      "needs_background": "light"
     },
     "output_type": "display_data"
    }
   ],
   "source": [
    "# Посмотрим распределение целевой переменной относительно признака\n",
    "df_output['Ranking'][df_output['Rating'] == 5].hist(bins=100)"
   ]
  },
  {
   "cell_type": "code",
   "execution_count": 1180,
   "metadata": {},
   "outputs": [
    {
     "data": {
      "text/plain": [
       "<AxesSubplot:>"
      ]
     },
     "execution_count": 1180,
     "metadata": {},
     "output_type": "execute_result"
    },
    {
     "data": {
      "image/png": "[encoded data removed]",
      "text/plain": [
       "<Figure size 1080x720 with 2 Axes>"
      ]
     },
     "metadata": {
      "needs_background": "light"
     },
     "output_type": "display_data"
    }
   ],
   "source": [
    "# Корреляция\n",
    "plt.rcParams['figure.figsize'] = (15,10)\n",
    "sns.heatmap(df_output.drop(['sample'], axis=1).corr(),)"
   ]
  },
  {
   "cell_type": "code",
   "execution_count": 1160,
   "metadata": {},
   "outputs": [],
   "source": [
    "# Удаляем не нужные столбцы\n",
    "object_columns = [\n",
    "    s for s in df_output.columns if df_output[s].dtypes == 'object']\n",
    "df_output.drop(object_columns, axis=1, inplace=True)"
   ]
  },
  {
   "cell_type": "code",
   "execution_count": 1161,
   "metadata": {},
   "outputs": [],
   "source": [
    "df_preproc = df_output"
   ]
  },
  {
   "cell_type": "code",
   "execution_count": 1162,
   "metadata": {},
   "outputs": [
    {
     "data": {
      "text/html": [
       "<div>\n",
       "<style scoped>\n",
       "    .dataframe tbody tr th:only-of-type {\n",
       "        vertical-align: middle;\n",
       "    }\n",
       "\n",
       "    .dataframe tbody tr th {\n",
       "        vertical-align: top;\n",
       "    }\n",
       "\n",
       "    .dataframe thead th {\n",
       "        text-align: right;\n",
       "    }\n",
       "</style>\n",
       "<table border=\"1\" class=\"dataframe\">\n",
       "  <thead>\n",
       "    <tr style=\"text-align: right;\">\n",
       "      <th></th>\n",
       "      <th>Ranking</th>\n",
       "      <th>Price</th>\n",
       "      <th>Number of Reviews</th>\n",
       "      <th>ID_TA</th>\n",
       "      <th>sample</th>\n",
       "      <th>Rating</th>\n",
       "      <th>Ranking_min_max</th>\n",
       "      <th>Number_of_Reviews_isNAN</th>\n",
       "      <th>NaN_Price Range</th>\n",
       "      <th>rest_counts</th>\n",
       "      <th>...</th>\n",
       "      <th>Albanian</th>\n",
       "      <th>Central Asian</th>\n",
       "      <th>Polynesian</th>\n",
       "      <th>Caucasian</th>\n",
       "      <th>Uzbek</th>\n",
       "      <th>Salvadoran</th>\n",
       "      <th>Xinjiang</th>\n",
       "      <th>Burmese</th>\n",
       "      <th>Fujian</th>\n",
       "      <th>Latvian</th>\n",
       "    </tr>\n",
       "  </thead>\n",
       "  <tbody>\n",
       "    <tr>\n",
       "      <th>20671</th>\n",
       "      <td>7850.0</td>\n",
       "      <td>1.0</td>\n",
       "      <td>21.0</td>\n",
       "      <td>6514472</td>\n",
       "      <td>1</td>\n",
       "      <td>3.5</td>\n",
       "      <td>0.891122</td>\n",
       "      <td>0</td>\n",
       "      <td>1.0</td>\n",
       "      <td>3813</td>\n",
       "      <td>...</td>\n",
       "      <td>0</td>\n",
       "      <td>0</td>\n",
       "      <td>0</td>\n",
       "      <td>0</td>\n",
       "      <td>0</td>\n",
       "      <td>0</td>\n",
       "      <td>0</td>\n",
       "      <td>0</td>\n",
       "      <td>0</td>\n",
       "      <td>0</td>\n",
       "    </tr>\n",
       "    <tr>\n",
       "      <th>45414</th>\n",
       "      <td>3106.0</td>\n",
       "      <td>1.0</td>\n",
       "      <td>322.0</td>\n",
       "      <td>1351573</td>\n",
       "      <td>1</td>\n",
       "      <td>4.0</td>\n",
       "      <td>0.188834</td>\n",
       "      <td>0</td>\n",
       "      <td>0.0</td>\n",
       "      <td>7193</td>\n",
       "      <td>...</td>\n",
       "      <td>0</td>\n",
       "      <td>0</td>\n",
       "      <td>0</td>\n",
       "      <td>0</td>\n",
       "      <td>0</td>\n",
       "      <td>0</td>\n",
       "      <td>0</td>\n",
       "      <td>0</td>\n",
       "      <td>0</td>\n",
       "      <td>0</td>\n",
       "    </tr>\n",
       "    <tr>\n",
       "      <th>22101</th>\n",
       "      <td>4896.0</td>\n",
       "      <td>0.0</td>\n",
       "      <td>52.0</td>\n",
       "      <td>10538275</td>\n",
       "      <td>1</td>\n",
       "      <td>4.0</td>\n",
       "      <td>0.297695</td>\n",
       "      <td>0</td>\n",
       "      <td>0.0</td>\n",
       "      <td>7193</td>\n",
       "      <td>...</td>\n",
       "      <td>0</td>\n",
       "      <td>0</td>\n",
       "      <td>0</td>\n",
       "      <td>0</td>\n",
       "      <td>0</td>\n",
       "      <td>0</td>\n",
       "      <td>0</td>\n",
       "      <td>0</td>\n",
       "      <td>0</td>\n",
       "      <td>0</td>\n",
       "    </tr>\n",
       "    <tr>\n",
       "      <th>43000</th>\n",
       "      <td>643.0</td>\n",
       "      <td>0.0</td>\n",
       "      <td>180.0</td>\n",
       "      <td>3516138</td>\n",
       "      <td>1</td>\n",
       "      <td>4.5</td>\n",
       "      <td>0.102327</td>\n",
       "      <td>0</td>\n",
       "      <td>0.0</td>\n",
       "      <td>2694</td>\n",
       "      <td>...</td>\n",
       "      <td>0</td>\n",
       "      <td>0</td>\n",
       "      <td>0</td>\n",
       "      <td>0</td>\n",
       "      <td>0</td>\n",
       "      <td>0</td>\n",
       "      <td>0</td>\n",
       "      <td>0</td>\n",
       "      <td>0</td>\n",
       "      <td>0</td>\n",
       "    </tr>\n",
       "    <tr>\n",
       "      <th>12988</th>\n",
       "      <td>6547.0</td>\n",
       "      <td>1.0</td>\n",
       "      <td>216.0</td>\n",
       "      <td>3179383</td>\n",
       "      <td>1</td>\n",
       "      <td>3.0</td>\n",
       "      <td>0.839687</td>\n",
       "      <td>0</td>\n",
       "      <td>0.0</td>\n",
       "      <td>3395</td>\n",
       "      <td>...</td>\n",
       "      <td>0</td>\n",
       "      <td>0</td>\n",
       "      <td>0</td>\n",
       "      <td>0</td>\n",
       "      <td>0</td>\n",
       "      <td>0</td>\n",
       "      <td>0</td>\n",
       "      <td>0</td>\n",
       "      <td>0</td>\n",
       "      <td>0</td>\n",
       "    </tr>\n",
       "    <tr>\n",
       "      <th>12581</th>\n",
       "      <td>6811.0</td>\n",
       "      <td>1.0</td>\n",
       "      <td>22.0</td>\n",
       "      <td>8067323</td>\n",
       "      <td>1</td>\n",
       "      <td>4.5</td>\n",
       "      <td>0.414158</td>\n",
       "      <td>0</td>\n",
       "      <td>0.0</td>\n",
       "      <td>7193</td>\n",
       "      <td>...</td>\n",
       "      <td>0</td>\n",
       "      <td>0</td>\n",
       "      <td>0</td>\n",
       "      <td>0</td>\n",
       "      <td>0</td>\n",
       "      <td>0</td>\n",
       "      <td>0</td>\n",
       "      <td>0</td>\n",
       "      <td>0</td>\n",
       "      <td>0</td>\n",
       "    </tr>\n",
       "    <tr>\n",
       "      <th>42358</th>\n",
       "      <td>1506.0</td>\n",
       "      <td>1.0</td>\n",
       "      <td>4.0</td>\n",
       "      <td>12995096</td>\n",
       "      <td>1</td>\n",
       "      <td>5.0</td>\n",
       "      <td>0.564728</td>\n",
       "      <td>1</td>\n",
       "      <td>1.0</td>\n",
       "      <td>1126</td>\n",
       "      <td>...</td>\n",
       "      <td>0</td>\n",
       "      <td>0</td>\n",
       "      <td>0</td>\n",
       "      <td>0</td>\n",
       "      <td>0</td>\n",
       "      <td>0</td>\n",
       "      <td>0</td>\n",
       "      <td>0</td>\n",
       "      <td>0</td>\n",
       "      <td>0</td>\n",
       "    </tr>\n",
       "    <tr>\n",
       "      <th>8039</th>\n",
       "      <td>929.0</td>\n",
       "      <td>1.0</td>\n",
       "      <td>16.0</td>\n",
       "      <td>4364360</td>\n",
       "      <td>0</td>\n",
       "      <td>0.0</td>\n",
       "      <td>0.656738</td>\n",
       "      <td>0</td>\n",
       "      <td>0.0</td>\n",
       "      <td>590</td>\n",
       "      <td>...</td>\n",
       "      <td>0</td>\n",
       "      <td>0</td>\n",
       "      <td>0</td>\n",
       "      <td>0</td>\n",
       "      <td>0</td>\n",
       "      <td>0</td>\n",
       "      <td>0</td>\n",
       "      <td>0</td>\n",
       "      <td>0</td>\n",
       "      <td>0</td>\n",
       "    </tr>\n",
       "    <tr>\n",
       "      <th>11777</th>\n",
       "      <td>8374.0</td>\n",
       "      <td>1.0</td>\n",
       "      <td>27.0</td>\n",
       "      <td>1156795</td>\n",
       "      <td>1</td>\n",
       "      <td>4.0</td>\n",
       "      <td>0.509214</td>\n",
       "      <td>0</td>\n",
       "      <td>0.0</td>\n",
       "      <td>7193</td>\n",
       "      <td>...</td>\n",
       "      <td>0</td>\n",
       "      <td>0</td>\n",
       "      <td>0</td>\n",
       "      <td>0</td>\n",
       "      <td>0</td>\n",
       "      <td>0</td>\n",
       "      <td>0</td>\n",
       "      <td>0</td>\n",
       "      <td>0</td>\n",
       "      <td>0</td>\n",
       "    </tr>\n",
       "    <tr>\n",
       "      <th>15696</th>\n",
       "      <td>1998.0</td>\n",
       "      <td>1.0</td>\n",
       "      <td>24.0</td>\n",
       "      <td>3673120</td>\n",
       "      <td>1</td>\n",
       "      <td>4.0</td>\n",
       "      <td>0.580017</td>\n",
       "      <td>0</td>\n",
       "      <td>0.0</td>\n",
       "      <td>1443</td>\n",
       "      <td>...</td>\n",
       "      <td>0</td>\n",
       "      <td>0</td>\n",
       "      <td>0</td>\n",
       "      <td>0</td>\n",
       "      <td>0</td>\n",
       "      <td>0</td>\n",
       "      <td>0</td>\n",
       "      <td>0</td>\n",
       "      <td>0</td>\n",
       "      <td>0</td>\n",
       "    </tr>\n",
       "  </tbody>\n",
       "</table>\n",
       "<p>10 rows × 178 columns</p>\n",
       "</div>"
      ],
      "text/plain": [
       "       Ranking  Price  Number of Reviews     ID_TA  sample  Rating  \\\n",
       "20671   7850.0    1.0               21.0   6514472       1     3.5   \n",
       "45414   3106.0    1.0              322.0   1351573       1     4.0   \n",
       "22101   4896.0    0.0               52.0  10538275       1     4.0   \n",
       "43000    643.0    0.0              180.0   3516138       1     4.5   \n",
       "12988   6547.0    1.0              216.0   3179383       1     3.0   \n",
       "12581   6811.0    1.0               22.0   8067323       1     4.5   \n",
       "42358   1506.0    1.0                4.0  12995096       1     5.0   \n",
       "8039     929.0    1.0               16.0   4364360       0     0.0   \n",
       "11777   8374.0    1.0               27.0   1156795       1     4.0   \n",
       "15696   1998.0    1.0               24.0   3673120       1     4.0   \n",
       "\n",
       "       Ranking_min_max  Number_of_Reviews_isNAN  NaN_Price Range  rest_counts  \\\n",
       "20671         0.891122                        0              1.0         3813   \n",
       "45414         0.188834                        0              0.0         7193   \n",
       "22101         0.297695                        0              0.0         7193   \n",
       "43000         0.102327                        0              0.0         2694   \n",
       "12988         0.839687                        0              0.0         3395   \n",
       "12581         0.414158                        0              0.0         7193   \n",
       "42358         0.564728                        1              1.0         1126   \n",
       "8039          0.656738                        0              0.0          590   \n",
       "11777         0.509214                        0              0.0         7193   \n",
       "15696         0.580017                        0              0.0         1443   \n",
       "\n",
       "       ...  Albanian  Central Asian  Polynesian  Caucasian  Uzbek  Salvadoran  \\\n",
       "20671  ...         0              0           0          0      0           0   \n",
       "45414  ...         0              0           0          0      0           0   \n",
       "22101  ...         0              0           0          0      0           0   \n",
       "43000  ...         0              0           0          0      0           0   \n",
       "12988  ...         0              0           0          0      0           0   \n",
       "12581  ...         0              0           0          0      0           0   \n",
       "42358  ...         0              0           0          0      0           0   \n",
       "8039   ...         0              0           0          0      0           0   \n",
       "11777  ...         0              0           0          0      0           0   \n",
       "15696  ...         0              0           0          0      0           0   \n",
       "\n",
       "       Xinjiang  Burmese  Fujian  Latvian  \n",
       "20671         0        0       0        0  \n",
       "45414         0        0       0        0  \n",
       "22101         0        0       0        0  \n",
       "43000         0        0       0        0  \n",
       "12988         0        0       0        0  \n",
       "12581         0        0       0        0  \n",
       "42358         0        0       0        0  \n",
       "8039          0        0       0        0  \n",
       "11777         0        0       0        0  \n",
       "15696         0        0       0        0  \n",
       "\n",
       "[10 rows x 178 columns]"
      ]
     },
     "execution_count": 1162,
     "metadata": {},
     "output_type": "execute_result"
    }
   ],
   "source": [
    "df_preproc.sample(10)"
   ]
  },
  {
   "cell_type": "markdown",
   "metadata": {},
   "source": [
    "## Начинаем делать ML\n",
    "- Выделение данных\n",
    "\n",
    "- Выбор модели\n",
    "\n",
    "- Обучение модели"
   ]
  },
  {
   "cell_type": "code",
   "execution_count": 1163,
   "metadata": {},
   "outputs": [],
   "source": [
    "# Теперь выделим тестовую часть\n",
    "train_data = df_preproc.query('sample == 1').drop(['sample'], axis=1)\n",
    "test_data = df_preproc.query('sample == 0').drop(['sample'], axis=1)\n",
    "\n",
    "y = train_data.Rating.values            # наш таргет\n",
    "X = train_data.drop(['Rating'], axis=1)"
   ]
  },
  {
   "cell_type": "code",
   "execution_count": 1164,
   "metadata": {},
   "outputs": [],
   "source": [
    "# Воспользуемся специальной функцие train_test_split для разбивки тестовых данных\n",
    "# выделим 20% данных на валидацию (параметр test_size)\n",
    "X_train, X_test, y_train, y_test = train_test_split(\n",
    "    X, y, test_size=0.2, random_state=RANDOM_SEED)"
   ]
  },
  {
   "cell_type": "code",
   "execution_count": 1165,
   "metadata": {},
   "outputs": [
    {
     "data": {
      "text/plain": [
       "((10000, 177), (40000, 177), (40000, 176), (32000, 176), (8000, 176))"
      ]
     },
     "execution_count": 1165,
     "metadata": {},
     "output_type": "execute_result"
    }
   ],
   "source": [
    "# проверяем\n",
    "test_data.shape, train_data.shape, X.shape, X_train.shape, X_test.shape"
   ]
  },
  {
   "cell_type": "code",
   "execution_count": 1166,
   "metadata": {},
   "outputs": [],
   "source": [
    "model = RandomForestRegressor(\n",
    "    n_estimators=100, verbose=1, n_jobs=-1, random_state=RANDOM_SEED)"
   ]
  },
  {
   "cell_type": "code",
   "execution_count": 1167,
   "metadata": {},
   "outputs": [
    {
     "name": "stderr",
     "output_type": "stream",
     "text": [
      "[Parallel(n_jobs=-1)]: Using backend ThreadingBackend with 16 concurrent workers.\n",
      "[Parallel(n_jobs=-1)]: Done  18 tasks      | elapsed:    1.3s\n",
      "[Parallel(n_jobs=-1)]: Done 100 out of 100 | elapsed:    4.4s finished\n",
      "[Parallel(n_jobs=16)]: Using backend ThreadingBackend with 16 concurrent workers.\n",
      "[Parallel(n_jobs=16)]: Done  18 tasks      | elapsed:    0.0s\n",
      "[Parallel(n_jobs=16)]: Done 100 out of 100 | elapsed:    0.0s finished\n"
     ]
    }
   ],
   "source": [
    "# Обучаем модель на тестовом наборе данных\n",
    "model.fit(X_train, y_train)\n",
    "\n",
    "# Используем обученную модель для предсказания рейтинга ресторанов в тестовой выборке.\n",
    "# Предсказанные значения записываем в переменную y_pred\n",
    "y_pred = model.predict(X_test)"
   ]
  },
  {
   "cell_type": "markdown",
   "metadata": {},
   "source": [
    "## Наш результат"
   ]
  },
  {
   "cell_type": "code",
   "execution_count": 1168,
   "metadata": {},
   "outputs": [
    {
     "name": "stdout",
     "output_type": "stream",
     "text": [
      "MAE: 0.19880062499999998\n"
     ]
    }
   ],
   "source": [
    "# Сравниваем предсказанные значения (y_pred) с реальными (y_test), и смотрим насколько они в среднем отличаются\n",
    "# Метрика называется Mean Absolute Error (MAE) и показывает среднее отклонение предсказанных значений от фактических.\n",
    "print('MAE:', metrics.mean_absolute_error(y_test, y_pred))"
   ]
  },
  {
   "cell_type": "code",
   "execution_count": 1169,
   "metadata": {
    "scrolled": false
   },
   "outputs": [
    {
     "data": {
      "text/plain": [
       "<AxesSubplot:>"
      ]
     },
     "execution_count": 1169,
     "metadata": {},
     "output_type": "execute_result"
    },
    {
     "data": {
      "image/png": "[encoded data removed]",
      "text/plain": [
       "<Figure size 720x720 with 1 Axes>"
      ]
     },
     "metadata": {
      "needs_background": "light"
     },
     "output_type": "display_data"
    }
   ],
   "source": [
    "# самые важные признаки для модели\n",
    "plt.rcParams['figure.figsize'] = (10, 10)\n",
    "feat_importances = pd.Series(model.feature_importances_, index=X.columns)\n",
    "feat_importances.nlargest(15).plot(kind='barh')"
   ]
  },
  {
   "cell_type": "markdown",
   "metadata": {},
   "source": [
    "## Submission\n",
    "- Готовим Submission на кагл"
   ]
  },
  {
   "cell_type": "code",
   "execution_count": 1170,
   "metadata": {},
   "outputs": [
    {
     "data": {
      "text/html": [
       "<div>\n",
       "<style scoped>\n",
       "    .dataframe tbody tr th:only-of-type {\n",
       "        vertical-align: middle;\n",
       "    }\n",
       "\n",
       "    .dataframe tbody tr th {\n",
       "        vertical-align: top;\n",
       "    }\n",
       "\n",
       "    .dataframe thead th {\n",
       "        text-align: right;\n",
       "    }\n",
       "</style>\n",
       "<table border=\"1\" class=\"dataframe\">\n",
       "  <thead>\n",
       "    <tr style=\"text-align: right;\">\n",
       "      <th></th>\n",
       "      <th>Ranking</th>\n",
       "      <th>Price</th>\n",
       "      <th>Number of Reviews</th>\n",
       "      <th>ID_TA</th>\n",
       "      <th>Rating</th>\n",
       "      <th>Ranking_min_max</th>\n",
       "      <th>Number_of_Reviews_isNAN</th>\n",
       "      <th>NaN_Price Range</th>\n",
       "      <th>rest_counts</th>\n",
       "      <th>ranked_cities</th>\n",
       "      <th>...</th>\n",
       "      <th>Albanian</th>\n",
       "      <th>Central Asian</th>\n",
       "      <th>Polynesian</th>\n",
       "      <th>Caucasian</th>\n",
       "      <th>Uzbek</th>\n",
       "      <th>Salvadoran</th>\n",
       "      <th>Xinjiang</th>\n",
       "      <th>Burmese</th>\n",
       "      <th>Fujian</th>\n",
       "      <th>Latvian</th>\n",
       "    </tr>\n",
       "  </thead>\n",
       "  <tbody>\n",
       "    <tr>\n",
       "      <th>4029</th>\n",
       "      <td>7278.0</td>\n",
       "      <td>1.0</td>\n",
       "      <td>61.0</td>\n",
       "      <td>7346916</td>\n",
       "      <td>0.0</td>\n",
       "      <td>0.442559</td>\n",
       "      <td>0</td>\n",
       "      <td>0.0</td>\n",
       "      <td>7193</td>\n",
       "      <td>21634.0</td>\n",
       "      <td>...</td>\n",
       "      <td>0</td>\n",
       "      <td>0</td>\n",
       "      <td>0</td>\n",
       "      <td>0</td>\n",
       "      <td>0</td>\n",
       "      <td>0</td>\n",
       "      <td>0</td>\n",
       "      <td>0</td>\n",
       "      <td>0</td>\n",
       "      <td>0</td>\n",
       "    </tr>\n",
       "    <tr>\n",
       "      <th>110</th>\n",
       "      <td>178.0</td>\n",
       "      <td>1.0</td>\n",
       "      <td>52.0</td>\n",
       "      <td>6013019</td>\n",
       "      <td>0.0</td>\n",
       "      <td>0.284330</td>\n",
       "      <td>0</td>\n",
       "      <td>0.0</td>\n",
       "      <td>263</td>\n",
       "      <td>25362.0</td>\n",
       "      <td>...</td>\n",
       "      <td>0</td>\n",
       "      <td>0</td>\n",
       "      <td>0</td>\n",
       "      <td>0</td>\n",
       "      <td>0</td>\n",
       "      <td>0</td>\n",
       "      <td>0</td>\n",
       "      <td>0</td>\n",
       "      <td>0</td>\n",
       "      <td>0</td>\n",
       "    </tr>\n",
       "    <tr>\n",
       "      <th>8308</th>\n",
       "      <td>2442.0</td>\n",
       "      <td>1.0</td>\n",
       "      <td>50.0</td>\n",
       "      <td>3237272</td>\n",
       "      <td>0.0</td>\n",
       "      <td>0.915947</td>\n",
       "      <td>0</td>\n",
       "      <td>0.0</td>\n",
       "      <td>1126</td>\n",
       "      <td>26056.5</td>\n",
       "      <td>...</td>\n",
       "      <td>0</td>\n",
       "      <td>0</td>\n",
       "      <td>0</td>\n",
       "      <td>0</td>\n",
       "      <td>0</td>\n",
       "      <td>0</td>\n",
       "      <td>0</td>\n",
       "      <td>0</td>\n",
       "      <td>0</td>\n",
       "      <td>0</td>\n",
       "    </tr>\n",
       "    <tr>\n",
       "      <th>1881</th>\n",
       "      <td>4511.0</td>\n",
       "      <td>1.0</td>\n",
       "      <td>36.0</td>\n",
       "      <td>8107914</td>\n",
       "      <td>0.0</td>\n",
       "      <td>0.322391</td>\n",
       "      <td>0</td>\n",
       "      <td>0.0</td>\n",
       "      <td>6108</td>\n",
       "      <td>38455.5</td>\n",
       "      <td>...</td>\n",
       "      <td>0</td>\n",
       "      <td>0</td>\n",
       "      <td>0</td>\n",
       "      <td>0</td>\n",
       "      <td>0</td>\n",
       "      <td>0</td>\n",
       "      <td>0</td>\n",
       "      <td>0</td>\n",
       "      <td>0</td>\n",
       "      <td>0</td>\n",
       "    </tr>\n",
       "    <tr>\n",
       "      <th>6537</th>\n",
       "      <td>9378.0</td>\n",
       "      <td>1.0</td>\n",
       "      <td>3.0</td>\n",
       "      <td>12511272</td>\n",
       "      <td>0.0</td>\n",
       "      <td>0.670457</td>\n",
       "      <td>0</td>\n",
       "      <td>0.0</td>\n",
       "      <td>6108</td>\n",
       "      <td>38455.5</td>\n",
       "      <td>...</td>\n",
       "      <td>0</td>\n",
       "      <td>0</td>\n",
       "      <td>0</td>\n",
       "      <td>0</td>\n",
       "      <td>0</td>\n",
       "      <td>0</td>\n",
       "      <td>0</td>\n",
       "      <td>0</td>\n",
       "      <td>0</td>\n",
       "      <td>0</td>\n",
       "    </tr>\n",
       "    <tr>\n",
       "      <th>7370</th>\n",
       "      <td>10675.0</td>\n",
       "      <td>1.0</td>\n",
       "      <td>4.0</td>\n",
       "      <td>12133777</td>\n",
       "      <td>0.0</td>\n",
       "      <td>0.763212</td>\n",
       "      <td>1</td>\n",
       "      <td>1.0</td>\n",
       "      <td>6108</td>\n",
       "      <td>38455.5</td>\n",
       "      <td>...</td>\n",
       "      <td>0</td>\n",
       "      <td>0</td>\n",
       "      <td>0</td>\n",
       "      <td>0</td>\n",
       "      <td>0</td>\n",
       "      <td>0</td>\n",
       "      <td>0</td>\n",
       "      <td>0</td>\n",
       "      <td>0</td>\n",
       "      <td>0</td>\n",
       "    </tr>\n",
       "    <tr>\n",
       "      <th>601</th>\n",
       "      <td>5730.0</td>\n",
       "      <td>1.0</td>\n",
       "      <td>68.0</td>\n",
       "      <td>3737984</td>\n",
       "      <td>0.0</td>\n",
       "      <td>0.409569</td>\n",
       "      <td>0</td>\n",
       "      <td>0.0</td>\n",
       "      <td>6108</td>\n",
       "      <td>38455.5</td>\n",
       "      <td>...</td>\n",
       "      <td>0</td>\n",
       "      <td>0</td>\n",
       "      <td>0</td>\n",
       "      <td>0</td>\n",
       "      <td>0</td>\n",
       "      <td>0</td>\n",
       "      <td>0</td>\n",
       "      <td>0</td>\n",
       "      <td>0</td>\n",
       "      <td>0</td>\n",
       "    </tr>\n",
       "    <tr>\n",
       "      <th>6175</th>\n",
       "      <td>6341.0</td>\n",
       "      <td>0.0</td>\n",
       "      <td>66.0</td>\n",
       "      <td>8830076</td>\n",
       "      <td>0.0</td>\n",
       "      <td>0.813246</td>\n",
       "      <td>0</td>\n",
       "      <td>0.0</td>\n",
       "      <td>3395</td>\n",
       "      <td>3846.0</td>\n",
       "      <td>...</td>\n",
       "      <td>0</td>\n",
       "      <td>0</td>\n",
       "      <td>0</td>\n",
       "      <td>0</td>\n",
       "      <td>0</td>\n",
       "      <td>0</td>\n",
       "      <td>0</td>\n",
       "      <td>0</td>\n",
       "      <td>0</td>\n",
       "      <td>0</td>\n",
       "    </tr>\n",
       "    <tr>\n",
       "      <th>8795</th>\n",
       "      <td>7226.0</td>\n",
       "      <td>1.0</td>\n",
       "      <td>2.0</td>\n",
       "      <td>3896899</td>\n",
       "      <td>0.0</td>\n",
       "      <td>0.820277</td>\n",
       "      <td>0</td>\n",
       "      <td>1.0</td>\n",
       "      <td>3813</td>\n",
       "      <td>28526.0</td>\n",
       "      <td>...</td>\n",
       "      <td>0</td>\n",
       "      <td>0</td>\n",
       "      <td>0</td>\n",
       "      <td>0</td>\n",
       "      <td>0</td>\n",
       "      <td>0</td>\n",
       "      <td>0</td>\n",
       "      <td>0</td>\n",
       "      <td>0</td>\n",
       "      <td>0</td>\n",
       "    </tr>\n",
       "    <tr>\n",
       "      <th>2247</th>\n",
       "      <td>6001.0</td>\n",
       "      <td>0.0</td>\n",
       "      <td>42.0</td>\n",
       "      <td>4570532</td>\n",
       "      <td>0.0</td>\n",
       "      <td>0.364897</td>\n",
       "      <td>0</td>\n",
       "      <td>0.0</td>\n",
       "      <td>7193</td>\n",
       "      <td>21634.0</td>\n",
       "      <td>...</td>\n",
       "      <td>0</td>\n",
       "      <td>0</td>\n",
       "      <td>0</td>\n",
       "      <td>0</td>\n",
       "      <td>0</td>\n",
       "      <td>0</td>\n",
       "      <td>0</td>\n",
       "      <td>0</td>\n",
       "      <td>0</td>\n",
       "      <td>0</td>\n",
       "    </tr>\n",
       "  </tbody>\n",
       "</table>\n",
       "<p>10 rows × 177 columns</p>\n",
       "</div>"
      ],
      "text/plain": [
       "      Ranking  Price  Number of Reviews     ID_TA  Rating  Ranking_min_max  \\\n",
       "4029   7278.0    1.0               61.0   7346916     0.0         0.442559   \n",
       "110     178.0    1.0               52.0   6013019     0.0         0.284330   \n",
       "8308   2442.0    1.0               50.0   3237272     0.0         0.915947   \n",
       "1881   4511.0    1.0               36.0   8107914     0.0         0.322391   \n",
       "6537   9378.0    1.0                3.0  12511272     0.0         0.670457   \n",
       "7370  10675.0    1.0                4.0  12133777     0.0         0.763212   \n",
       "601    5730.0    1.0               68.0   3737984     0.0         0.409569   \n",
       "6175   6341.0    0.0               66.0   8830076     0.0         0.813246   \n",
       "8795   7226.0    1.0                2.0   3896899     0.0         0.820277   \n",
       "2247   6001.0    0.0               42.0   4570532     0.0         0.364897   \n",
       "\n",
       "      Number_of_Reviews_isNAN  NaN_Price Range  rest_counts  ranked_cities  \\\n",
       "4029                        0              0.0         7193        21634.0   \n",
       "110                         0              0.0          263        25362.0   \n",
       "8308                        0              0.0         1126        26056.5   \n",
       "1881                        0              0.0         6108        38455.5   \n",
       "6537                        0              0.0         6108        38455.5   \n",
       "7370                        1              1.0         6108        38455.5   \n",
       "601                         0              0.0         6108        38455.5   \n",
       "6175                        0              0.0         3395         3846.0   \n",
       "8795                        0              1.0         3813        28526.0   \n",
       "2247                        0              0.0         7193        21634.0   \n",
       "\n",
       "      ...  Albanian  Central Asian  Polynesian  Caucasian  Uzbek  Salvadoran  \\\n",
       "4029  ...         0              0           0          0      0           0   \n",
       "110   ...         0              0           0          0      0           0   \n",
       "8308  ...         0              0           0          0      0           0   \n",
       "1881  ...         0              0           0          0      0           0   \n",
       "6537  ...         0              0           0          0      0           0   \n",
       "7370  ...         0              0           0          0      0           0   \n",
       "601   ...         0              0           0          0      0           0   \n",
       "6175  ...         0              0           0          0      0           0   \n",
       "8795  ...         0              0           0          0      0           0   \n",
       "2247  ...         0              0           0          0      0           0   \n",
       "\n",
       "      Xinjiang  Burmese  Fujian  Latvian  \n",
       "4029         0        0       0        0  \n",
       "110          0        0       0        0  \n",
       "8308         0        0       0        0  \n",
       "1881         0        0       0        0  \n",
       "6537         0        0       0        0  \n",
       "7370         0        0       0        0  \n",
       "601          0        0       0        0  \n",
       "6175         0        0       0        0  \n",
       "8795         0        0       0        0  \n",
       "2247         0        0       0        0  \n",
       "\n",
       "[10 rows x 177 columns]"
      ]
     },
     "execution_count": 1170,
     "metadata": {},
     "output_type": "execute_result"
    }
   ],
   "source": [
    "test_data.sample(10)"
   ]
  },
  {
   "cell_type": "code",
   "execution_count": 1171,
   "metadata": {},
   "outputs": [],
   "source": [
    "test_data = test_data.drop(['Rating'], axis=1)"
   ]
  },
  {
   "cell_type": "code",
   "execution_count": 1172,
   "metadata": {},
   "outputs": [
    {
     "data": {
      "text/html": [
       "<div>\n",
       "<style scoped>\n",
       "    .dataframe tbody tr th:only-of-type {\n",
       "        vertical-align: middle;\n",
       "    }\n",
       "\n",
       "    .dataframe tbody tr th {\n",
       "        vertical-align: top;\n",
       "    }\n",
       "\n",
       "    .dataframe thead th {\n",
       "        text-align: right;\n",
       "    }\n",
       "</style>\n",
       "<table border=\"1\" class=\"dataframe\">\n",
       "  <thead>\n",
       "    <tr style=\"text-align: right;\">\n",
       "      <th></th>\n",
       "      <th>Restaurant_id</th>\n",
       "      <th>Rating</th>\n",
       "    </tr>\n",
       "  </thead>\n",
       "  <tbody>\n",
       "    <tr>\n",
       "      <th>0</th>\n",
       "      <td>id_0</td>\n",
       "      <td>2.0</td>\n",
       "    </tr>\n",
       "    <tr>\n",
       "      <th>1</th>\n",
       "      <td>id_1</td>\n",
       "      <td>2.5</td>\n",
       "    </tr>\n",
       "    <tr>\n",
       "      <th>2</th>\n",
       "      <td>id_2</td>\n",
       "      <td>4.0</td>\n",
       "    </tr>\n",
       "    <tr>\n",
       "      <th>3</th>\n",
       "      <td>id_3</td>\n",
       "      <td>1.0</td>\n",
       "    </tr>\n",
       "    <tr>\n",
       "      <th>4</th>\n",
       "      <td>id_4</td>\n",
       "      <td>4.0</td>\n",
       "    </tr>\n",
       "    <tr>\n",
       "      <th>...</th>\n",
       "      <td>...</td>\n",
       "      <td>...</td>\n",
       "    </tr>\n",
       "    <tr>\n",
       "      <th>9995</th>\n",
       "      <td>id_9995</td>\n",
       "      <td>3.0</td>\n",
       "    </tr>\n",
       "    <tr>\n",
       "      <th>9996</th>\n",
       "      <td>id_9996</td>\n",
       "      <td>1.5</td>\n",
       "    </tr>\n",
       "    <tr>\n",
       "      <th>9997</th>\n",
       "      <td>id_9997</td>\n",
       "      <td>4.5</td>\n",
       "    </tr>\n",
       "    <tr>\n",
       "      <th>9998</th>\n",
       "      <td>id_9998</td>\n",
       "      <td>1.0</td>\n",
       "    </tr>\n",
       "    <tr>\n",
       "      <th>9999</th>\n",
       "      <td>id_9999</td>\n",
       "      <td>2.5</td>\n",
       "    </tr>\n",
       "  </tbody>\n",
       "</table>\n",
       "<p>10000 rows × 2 columns</p>\n",
       "</div>"
      ],
      "text/plain": [
       "     Restaurant_id  Rating\n",
       "0             id_0     2.0\n",
       "1             id_1     2.5\n",
       "2             id_2     4.0\n",
       "3             id_3     1.0\n",
       "4             id_4     4.0\n",
       "...            ...     ...\n",
       "9995       id_9995     3.0\n",
       "9996       id_9996     1.5\n",
       "9997       id_9997     4.5\n",
       "9998       id_9998     1.0\n",
       "9999       id_9999     2.5\n",
       "\n",
       "[10000 rows x 2 columns]"
      ]
     },
     "execution_count": 1172,
     "metadata": {},
     "output_type": "execute_result"
    }
   ],
   "source": [
    "sample_submission"
   ]
  },
  {
   "cell_type": "code",
   "execution_count": 1173,
   "metadata": {},
   "outputs": [
    {
     "name": "stderr",
     "output_type": "stream",
     "text": [
      "[Parallel(n_jobs=16)]: Using backend ThreadingBackend with 16 concurrent workers.\n",
      "[Parallel(n_jobs=16)]: Done  18 tasks      | elapsed:    0.0s\n",
      "[Parallel(n_jobs=16)]: Done 100 out of 100 | elapsed:    0.0s finished\n"
     ]
    }
   ],
   "source": [
    "predict_submission = model.predict(test_data)"
   ]
  },
  {
   "cell_type": "code",
   "execution_count": 1174,
   "metadata": {},
   "outputs": [
    {
     "data": {
      "text/plain": [
       "array([3.02 , 4.24 , 4.115, ..., 3.045, 4.47 , 4.16 ])"
      ]
     },
     "execution_count": 1174,
     "metadata": {},
     "output_type": "execute_result"
    }
   ],
   "source": [
    "predict_submission"
   ]
  },
  {
   "cell_type": "code",
   "execution_count": 1175,
   "metadata": {
    "scrolled": true
   },
   "outputs": [
    {
     "data": {
      "text/html": [
       "<div>\n",
       "<style scoped>\n",
       "    .dataframe tbody tr th:only-of-type {\n",
       "        vertical-align: middle;\n",
       "    }\n",
       "\n",
       "    .dataframe tbody tr th {\n",
       "        vertical-align: top;\n",
       "    }\n",
       "\n",
       "    .dataframe thead th {\n",
       "        text-align: right;\n",
       "    }\n",
       "</style>\n",
       "<table border=\"1\" class=\"dataframe\">\n",
       "  <thead>\n",
       "    <tr style=\"text-align: right;\">\n",
       "      <th></th>\n",
       "      <th>Restaurant_id</th>\n",
       "      <th>Rating</th>\n",
       "    </tr>\n",
       "  </thead>\n",
       "  <tbody>\n",
       "    <tr>\n",
       "      <th>0</th>\n",
       "      <td>id_0</td>\n",
       "      <td>3.020</td>\n",
       "    </tr>\n",
       "    <tr>\n",
       "      <th>1</th>\n",
       "      <td>id_1</td>\n",
       "      <td>4.240</td>\n",
       "    </tr>\n",
       "    <tr>\n",
       "      <th>2</th>\n",
       "      <td>id_2</td>\n",
       "      <td>4.115</td>\n",
       "    </tr>\n",
       "    <tr>\n",
       "      <th>3</th>\n",
       "      <td>id_3</td>\n",
       "      <td>4.380</td>\n",
       "    </tr>\n",
       "    <tr>\n",
       "      <th>4</th>\n",
       "      <td>id_4</td>\n",
       "      <td>4.460</td>\n",
       "    </tr>\n",
       "    <tr>\n",
       "      <th>5</th>\n",
       "      <td>id_5</td>\n",
       "      <td>4.490</td>\n",
       "    </tr>\n",
       "    <tr>\n",
       "      <th>6</th>\n",
       "      <td>id_6</td>\n",
       "      <td>2.050</td>\n",
       "    </tr>\n",
       "    <tr>\n",
       "      <th>7</th>\n",
       "      <td>id_7</td>\n",
       "      <td>3.260</td>\n",
       "    </tr>\n",
       "    <tr>\n",
       "      <th>8</th>\n",
       "      <td>id_8</td>\n",
       "      <td>4.175</td>\n",
       "    </tr>\n",
       "    <tr>\n",
       "      <th>9</th>\n",
       "      <td>id_9</td>\n",
       "      <td>4.635</td>\n",
       "    </tr>\n",
       "  </tbody>\n",
       "</table>\n",
       "</div>"
      ],
      "text/plain": [
       "  Restaurant_id  Rating\n",
       "0          id_0   3.020\n",
       "1          id_1   4.240\n",
       "2          id_2   4.115\n",
       "3          id_3   4.380\n",
       "4          id_4   4.460\n",
       "5          id_5   4.490\n",
       "6          id_6   2.050\n",
       "7          id_7   3.260\n",
       "8          id_8   4.175\n",
       "9          id_9   4.635"
      ]
     },
     "execution_count": 1175,
     "metadata": {},
     "output_type": "execute_result"
    }
   ],
   "source": [
    "sample_submission['Rating'] = predict_submission\n",
    "sample_submission.to_csv('submission.csv', index=False)\n",
    "sample_submission.head(10)"
   ]
  }
 ],
 "metadata": {
  "kernelspec": {
   "display_name": "Python 3",
   "language": "python",
   "name": "python3"
  },
  "language_info": {
   "codemirror_mode": {
    "name": "ipython",
    "version": 3
   },
   "file_extension": ".py",
   "mimetype": "text/x-python",
   "name": "python",
   "nbconvert_exporter": "python",
   "pygments_lexer": "ipython3",
   "version": "3.8.5"
  }
 },
 "nbformat": 4,
 "nbformat_minor": 4
}
