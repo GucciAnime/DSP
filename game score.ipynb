{
 "cells": [
  {
   "cell_type": "markdown",
   "metadata": {},
   "source": [
    "# Программа генирирует число и угадывает его"
   ]
  },
  {
   "cell_type": "code",
   "execution_count": 14,
   "metadata": {},
   "outputs": [
    {
     "name": "stdout",
     "output_type": "stream",
     "text": [
      "Среднее кол-во попыток: 4.47\n"
     ]
    }
   ],
   "source": [
    "import random\n",
    "\n",
    "def score_game():\n",
    "    \"\"\"Функция, которая повторяет алгоритм 1000 раз\"\"\"\n",
    "    counter = 1000\n",
    "    sumTries = 0\n",
    "    \n",
    "    while counter > 0:\n",
    "        thisTries =  game_core()\n",
    "        sumTries += thisTries\n",
    "        counter -= 1\n",
    "    \n",
    "    return sumTries/1000\n",
    "\n",
    "def game_core():\n",
    "    \"\"\"Функция, которая угадывает число\"\"\"\n",
    "    number = random.randint(1,100) # Загаданное число\n",
    "    guess = 0\n",
    "    value = random.randint(1,100)\n",
    "    tries = 0 # Кол-во шагов\n",
    "\n",
    "    while guess != number:\n",
    "        if number > guess:\n",
    "            \n",
    "            if value == 1:\n",
    "                guess += 1 \n",
    "            else:\n",
    "                guess += value//2\n",
    "                value = value//2\n",
    "                tries += 1\n",
    "        \n",
    "        elif number < guess:\n",
    "            \n",
    "            if value == 1:\n",
    "                guess -= 1\n",
    "            else: \n",
    "                guess -= value//2\n",
    "                value = value//2\n",
    "                tries += 1\n",
    "\n",
    "    return tries\n",
    "\n",
    "\n",
    "print('Среднее кол-во попыток:', score_game())"
   ]
  },
  {
   "cell_type": "code",
   "execution_count": null,
   "metadata": {},
   "outputs": [],
   "source": []
  },
  {
   "cell_type": "code",
   "execution_count": null,
   "metadata": {},
   "outputs": [],
   "source": []
  },
  {
   "cell_type": "code",
   "execution_count": null,
   "metadata": {},
   "outputs": [],
   "source": []
  },
  {
   "cell_type": "code",
   "execution_count": null,
   "metadata": {},
   "outputs": [],
   "source": []
  },
  {
   "cell_type": "code",
   "execution_count": null,
   "metadata": {},
   "outputs": [],
   "source": []
  }
 ],
 "metadata": {
  "kernelspec": {
   "display_name": "Python 3",
   "language": "python",
   "name": "python3"
  },
  "language_info": {
   "codemirror_mode": {
    "name": "ipython",
    "version": 3
   },
   "file_extension": ".py",
   "mimetype": "text/x-python",
   "name": "python",
   "nbconvert_exporter": "python",
   "pygments_lexer": "ipython3",
   "version": "3.7.6"
  }
 },
 "nbformat": 4,
 "nbformat_minor": 4
}
